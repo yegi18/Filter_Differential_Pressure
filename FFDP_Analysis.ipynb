{
  "cells": [
    {
      "cell_type": "code",
      "execution_count": null,
      "metadata": {
        "colab": {
          "base_uri": "https://localhost:8080/"
        },
        "id": "utR448tRuiXW",
        "outputId": "b5f642da-5170-4d8b-c06e-b848a21bb4ac"
      },
      "outputs": [
        {
          "output_type": "stream",
          "name": "stdout",
          "text": [
            "Mounted at /content/drive\n"
          ]
        }
      ],
      "source": [
        "from google.colab import drive\n",
        "drive.mount('/content/drive')"
      ]
    },
    {
      "cell_type": "code",
      "execution_count": null,
      "metadata": {
        "colab": {
          "base_uri": "https://localhost:8080/",
          "height": 177
        },
        "id": "kG5wn7uQBhcW",
        "outputId": "6a5a0cc3-bfb3-49d7-cb45-7083ca0edbbc"
      },
      "outputs": [
        {
          "output_type": "stream",
          "name": "stderr",
          "text": [
            "<ipython-input-9-35988a153e9b>:8: DtypeWarning: Columns (0,1,2,3,4,5,6,7,8,9,10,11,12,13,14,15,16,17,18,19,20,21,22,23,24,25,26,27,28,29,30,31,32,33,34,35,36,37,38,39,40,41,42,43,44,45,46,47,48,49,50,51,52,53,54,55,56,57,58,59,60,61,62,63,64,65,66,67,68,69,70,71,72,73,74,75,76,77,78,79,80,81,82,83,84,85,86,87,88,89,90,91,92,93,94,95,96,97,98,99,100,101,102,103,104,105,106,107,108,109,110,111,112,113,114,115,116) have mixed types. Specify dtype option on import or set low_memory=False.\n",
            "  data = pd.read_csv(\"/content/drive/MyDrive/min_raw.csv\", header=None)\n"
          ]
        },
        {
          "output_type": "stream",
          "name": "stdout",
          "text": [
            "[40801, 39764, 26, 16060, 40878, 39767, 41463, 15902, 41747, 40477, 41995, 15989, 41943, 41761, 41617, 39798, 41512, 41493, 41131, 39702, 0, 41645, 41149, 39901, 39274, 40867, 40108, 40187, 39508, 41147, 40330, 40804, 41365, 41397, 25, 43206, 41206, 42754, 22, 43334, 40608, 41698, 56, 111, 40717, 41995, 50, 43349]\n"
          ]
        },
        {
          "output_type": "execute_result",
          "data": {
            "text/plain": [
              "'\\ncor_d=[[[] for col in range(48)] for row in range(48)]\\nfor j in range(0,48):\\n    for q in range(0,48):\\n        l1=[]\\n        l2=[]\\n        for r in range(1,131041):\\n            if g_ffdp(ffdp[j][r])==True and g_ffdp(ffdp[q][r])==True:\\n                l1.append(ffdp[j][r])\\n                l2.append(ffdp[q][r])\\n        if len(l1)>1000:\\n            cor_d[j][q]=pearsonr(l1,l2)[0]\\n        else:\\n            cor_d[j][q]=-2\\n\\n\\ncor_d=np.array(cor_d)\\nfig, ax = plt.subplots()\\n\\n\\nc=plt.imshow(cor_d,vmin=0,vmax=1,interpolation=\\'nearest\\')\\nplt.colorbar(c,label=\"FFDP_Corr\")\\n\\nplt.show()\\n'"
            ],
            "application/vnd.google.colaboratory.intrinsic+json": {
              "type": "string"
            }
          },
          "metadata": {},
          "execution_count": 9
        }
      ],
      "source": [
        "import os\n",
        "import pandas as pd\n",
        "import matplotlib.pyplot as plt\n",
        "import numpy as np\n",
        "import random\n",
        "import pandas as pd\n",
        "from scipy.stats import pearsonr\n",
        "data = pd.read_csv(\"/content/drive/MyDrive/min_raw.csv\", header=None)\n",
        "cnt=[]\n",
        "ffdp=[]\n",
        "\n",
        "def g_ffdp(x):\n",
        "    if x>=1000 and x<=3000:\n",
        "        return True\n",
        "    else:\n",
        "        return False\n",
        "\n",
        "\n",
        "def g_sov(x):\n",
        "    if x>1.8 and x<4.5:\n",
        "        return True\n",
        "    else:\n",
        "        return False\n",
        "\n",
        "def g_pow(x):\n",
        "    if x>=400 and x<=600:\n",
        "        return True\n",
        "    else:\n",
        "        return False\n",
        "\n",
        "def g_coal(x):\n",
        "    if x>=250 and x<=450:\n",
        "        return True\n",
        "    else:\n",
        "        return False\n",
        "\n",
        "\n",
        "def g_curr(x):\n",
        "    if x>200 and x<350:\n",
        "        return True\n",
        "    else:\n",
        "        return False\n",
        "\n",
        "i=22\n",
        "while i<=116:\n",
        "    x=data[i].values\n",
        "    ffdp.append(x)\n",
        "    cn=0\n",
        "    for j in range(1,44641):\n",
        "        x[j]=float(x[j])\n",
        "        if x[j]>=1000 and x[j]<=3000:\n",
        "            cn=cn+1\n",
        "    cnt.append(cn)\n",
        "    i=i+2\n",
        "print(cnt)\n",
        "\n",
        "for j in range(1,44641):\n",
        "    for k in range(0,len(ffdp)):\n",
        "            ffdp[k][j]=float(ffdp[k][j])\n",
        "\n",
        "\"\"\"\n",
        "cor_d=[[[] for col in range(48)] for row in range(48)]\n",
        "for j in range(0,48):\n",
        "    for q in range(0,48):\n",
        "        l1=[]\n",
        "        l2=[]\n",
        "        for r in range(1,131041):\n",
        "            if g_ffdp(ffdp[j][r])==True and g_ffdp(ffdp[q][r])==True:\n",
        "                l1.append(ffdp[j][r])\n",
        "                l2.append(ffdp[q][r])\n",
        "        if len(l1)>1000:\n",
        "            cor_d[j][q]=pearsonr(l1,l2)[0]\n",
        "        else:\n",
        "            cor_d[j][q]=-2\n",
        "\n",
        "\n",
        "cor_d=np.array(cor_d)\n",
        "fig, ax = plt.subplots()\n",
        "\n",
        "\n",
        "c=plt.imshow(cor_d,vmin=0,vmax=1,interpolation='nearest')\n",
        "plt.colorbar(c,label=\"FFDP_Corr\")\n",
        "\n",
        "plt.show()\n",
        "\"\"\""
      ]
    },
    {
      "cell_type": "code",
      "execution_count": null,
      "metadata": {
        "id": "XslHc9y5gREV"
      },
      "outputs": [],
      "source": [
        "df=pd.DataFrame(cor_d)\n",
        "df.to_excel(\"cor_d_3monmin.xlsx\")\n",
        "\n",
        "\n",
        "\n"
      ]
    },
    {
      "cell_type": "code",
      "execution_count": null,
      "metadata": {
        "colab": {
          "base_uri": "https://localhost:8080/"
        },
        "id": "puiW3j-J3Yec",
        "outputId": "7219c237-ca53-45c6-ec72-9439ea306cef"
      },
      "outputs": [
        {
          "name": "stdout",
          "output_type": "stream",
          "text": [
            "[ 0.98801078  0.95721122  0.91004808  0.79513257  0.99035942  0.96404803\n",
            "  0.90941749  0.8025518   1.          0.98919753  0.91945168  0.82358095\n",
            "  0.98366596  0.98161936  0.91493657  0.96413357  0.9888274   0.98500009\n",
            "  0.85689768  0.84300209 -2.          0.98397881  0.68767467  0.86787504\n",
            "  0.98979625  0.9829019   0.876547    0.87555202  0.98823362  0.9789665\n",
            "  0.87998498  0.86030837  0.97681868  0.89760869  0.91363058  0.7856583\n",
            "  0.97313606  0.93087818  0.92117114  0.77161162  0.98257855  0.95174475\n",
            "  0.91612706  0.95466368  0.98206675  0.94856443  0.90801132  0.75788441]\n"
          ]
        }
      ],
      "source": [
        "\n",
        "print(cor_d[8])"
      ]
    },
    {
      "cell_type": "code",
      "execution_count": null,
      "metadata": {
        "colab": {
          "base_uri": "https://localhost:8080/"
        },
        "id": "BoIn5r4BffNU",
        "outputId": "32475688-d33a-4bfd-f013-4cbc7ce8c9fe"
      },
      "outputs": [
        {
          "name": "stdout",
          "output_type": "stream",
          "text": [
            "[1.         0.99035942 0.98979625 0.98919753 0.9888274  0.98823362]\n"
          ]
        }
      ],
      "source": [
        "cor_d_=cor_d.copy()\n",
        "cor_dmax=[[[] for col in range(6)] for row in range(48)]\n",
        "for j in range(0,48):\n",
        "    cor_d_[j].sort()\n",
        "    for q in range(0,6):\n",
        "        cor_dmax[j][q]=cor_d_[j][47-q]\n",
        "cor_dmax=np.array(cor_dmax)\n",
        "print(cor_dmax[8])"
      ]
    },
    {
      "cell_type": "code",
      "execution_count": null,
      "metadata": {
        "colab": {
          "base_uri": "https://localhost:8080/",
          "height": 490
        },
        "id": "V4uRn3rU6T0w",
        "outputId": "19c7b852-015d-4940-cfd6-ab4585f2e9c8"
      },
      "outputs": [
        {
          "output_type": "stream",
          "name": "stderr",
          "text": [
            "<ipython-input-3-67903174f240>:8: DtypeWarning: Columns (0,1,2,3,4,5,6,7,8,9,10,11,12,13,14,15,16,17,18,19,20,21,22,23,24,25,26,27,28,29,30,31,32,33,34,35,36,37,38,39,40,41,42,43,44,45,46,47,48,49,50,51,52,53,54,55,56,57,58,59,60,61,62,63,64,65,66,67,68,69,70,71,72,73,74,75,76,77,78,79,80,81,82,83,84,85,86,87,88,89,90,91,92,93,94,95,96,97,98,99,100,101,102,103,104,105,106,107,108,109,110,111,112,113,114,115,116) have mixed types. Specify dtype option on import or set low_memory=False.\n",
            "  data_=pd.read_csv(\"/content/drive/MyDrive/raw_ff_t2.csv\",header=None)\n"
          ]
        },
        {
          "output_type": "display_data",
          "data": {
            "text/plain": [
              "<Figure size 640x480 with 2 Axes>"
            ],
            "image/png": "[encoded data removed]"
          },
          "metadata": {}
        }
      ],
      "source": [
        "import os\n",
        "import pandas as pd\n",
        "import matplotlib.pyplot as plt\n",
        "import numpy as np\n",
        "import random\n",
        "import pandas as pd\n",
        "from scipy.stats import pearsonr\n",
        "data_=pd.read_csv(\"/content/drive/MyDrive/raw_ff_t2.csv\",header=None)\n",
        "cnt_=[]\n",
        "ffdp_=[]\n",
        "\n",
        "i_=22\n",
        "while i_<=116:\n",
        "    x_=data_[i_].values\n",
        "    ffdp_.append(x_)\n",
        "    cn_=0\n",
        "    for j in range(1,26497):\n",
        "        x_[j]=float(x_[j])\n",
        "        if x_[j]<1000 and x_[j]>3000:\n",
        "            cn_=cn_+1\n",
        "    cnt_.append(cn_)\n",
        "    i_=i_+2\n",
        "\n",
        "\n",
        "for j in range(1,26497):\n",
        "    for k in range(0,len(ffdp_)):\n",
        "\n",
        "            ffdp_[k][j]=float(ffdp_[k][j])\n",
        "\n",
        "\n",
        "cor_d_=[[[] for col in range(48)] for row in range(48)]\n",
        "for j in range(0,48):\n",
        "    for q in range(0,48):\n",
        "        l1=[]\n",
        "        l2=[]\n",
        "        for r in range(1,26497):\n",
        "            if g_ffdp(ffdp_[j][r])==True and g_ffdp(ffdp_[q][r])==True:\n",
        "                l1.append(ffdp_[j][r])\n",
        "                l2.append(ffdp_[q][r])\n",
        "        if len(l1)>1000:\n",
        "            cor_d_[j][q]=pearsonr(l1,l2)[0]\n",
        "        else:\n",
        "            cor_d_[j][q]=-2\n",
        "\n",
        "cor_d_=np.array(cor_d_)\n",
        "fig, ax = plt.subplots()\n",
        "c=plt.imshow(cor_d_,vmin=0,vmax=1,interpolation='nearest')\n",
        "plt.colorbar(c,label=\"FFDP_Corr_\")\n",
        "\n",
        "plt.show()"
      ]
    },
    {
      "cell_type": "code",
      "execution_count": null,
      "metadata": {
        "id": "vfQ-WPjTCbtM"
      },
      "outputs": [],
      "source": [
        "df=pd.DataFrame(cor_d_)\n",
        "df.to_excel(\"cor_d_5min3mon.xlsx\")"
      ]
    },
    {
      "cell_type": "code",
      "source": [
        "print(cor_d_[8])"
      ],
      "metadata": {
        "colab": {
          "base_uri": "https://localhost:8080/"
        },
        "id": "LSGnk-n8tiny",
        "outputId": "78ee77fc-f4ec-489c-87e9-cec43176ac11"
      },
      "execution_count": null,
      "outputs": [
        {
          "output_type": "stream",
          "name": "stdout",
          "text": [
            "[ 0.85730935  0.67678664 -2.          0.68517531  0.82653242  0.61428988\n",
            "  0.61124552  0.6601628   1.          0.87443918  0.62184979  0.65684128\n",
            "  0.93097045  0.72874732  0.62893557  0.61713319  0.75564405  0.712769\n",
            "  0.62191794  0.55793552  0.7742911   0.71998049  0.39573356  0.55117639\n",
            "  0.76111815  0.75822892  0.61585013  0.59718508  0.75808415  0.74004734\n",
            "  0.60522665  0.58797492  0.69012989  0.77989691  0.52572646  0.66259635\n",
            "  0.65137178  0.73256226  0.56634661  0.63933784  0.73061322  0.71764818\n",
            "  0.60558018 -2.          0.71604824  0.67268184  0.60426519  0.61524062]\n"
          ]
        }
      ]
    },
    {
      "cell_type": "code",
      "execution_count": null,
      "metadata": {
        "colab": {
          "base_uri": "https://localhost:8080/",
          "height": 435
        },
        "id": "opSrcMRdC5NW",
        "outputId": "9f639088-32ce-40be-9bfe-bc9af39dff8b"
      },
      "outputs": [
        {
          "data": {
            "image/png": "[encoded data removed]",
            "text/plain": [
              "<Figure size 640x480 with 2 Axes>"
            ]
          },
          "metadata": {},
          "output_type": "display_data"
        }
      ],
      "source": [
        "c=plt.imshow(cor_d,vmin=0,vmax=1,interpolation='nearest')\n",
        "plt.colorbar(c,label=\"FFDP_Corr\")\n",
        "\n",
        "plt.show()"
      ]
    },
    {
      "cell_type": "code",
      "execution_count": null,
      "metadata": {
        "colab": {
          "base_uri": "https://localhost:8080/",
          "height": 141
        },
        "id": "cVxpmCt9QVys",
        "outputId": "61adf124-82cc-45ef-8450-7276b9c84b3a"
      },
      "outputs": [
        {
          "output_type": "error",
          "ename": "NameError",
          "evalue": "name 'cor_d' is not defined",
          "traceback": [
            "\u001b[0;31m---------------------------------------------------------------------------\u001b[0m",
            "\u001b[0;31mNameError\u001b[0m                                 Traceback (most recent call last)",
            "\u001b[0;32m<ipython-input-27-77fa7e852f20>\u001b[0m in \u001b[0;36m<cell line: 1>\u001b[0;34m()\u001b[0m\n\u001b[0;32m----> 1\u001b[0;31m \u001b[0mprint\u001b[0m\u001b[0;34m(\u001b[0m\u001b[0mcor_d\u001b[0m\u001b[0;34m[\u001b[0m\u001b[0;36m11\u001b[0m\u001b[0;34m]\u001b[0m\u001b[0;34m)\u001b[0m\u001b[0;34m\u001b[0m\u001b[0;34m\u001b[0m\u001b[0m\n\u001b[0m",
            "\u001b[0;31mNameError\u001b[0m: name 'cor_d' is not defined"
          ]
        }
      ],
      "source": [
        "print(cor_d[11])"
      ]
    },
    {
      "cell_type": "code",
      "execution_count": null,
      "metadata": {
        "colab": {
          "base_uri": "https://localhost:8080/"
        },
        "id": "gN_J3iFn6Sm6",
        "outputId": "13cfd5b8-9758-40a8-9814-78906ac4360d"
      },
      "outputs": [
        {
          "output_type": "stream",
          "name": "stdout",
          "text": [
            "0\n",
            "3\n",
            "4\n",
            "7\n",
            "8\n",
            "10\n",
            "11\n",
            "13\n",
            "14\n",
            "15\n",
            "19\n",
            "22\n",
            "23\n",
            "24\n",
            "26\n",
            "27\n",
            "29\n",
            "31\n",
            "32\n",
            "39\n",
            "44\n"
          ]
        }
      ],
      "source": [
        "sov=[]\n",
        "ncnt=[]\n",
        "\n",
        "a=21\n",
        "while a<=115:\n",
        "  sov.append(data[a].values)\n",
        "  a=a+2\n",
        "for j in range(1,44641):\n",
        "    for k in range(0,len(sov)):\n",
        "           sov[k][j]=float(sov[k][j])\n",
        "\n",
        "\n",
        "\n",
        "\n",
        "index=[]\n",
        "indexval=[]\n",
        "for p in range(0,48):\n",
        "    indexval.append([])\n",
        "    fcn=0\n",
        "    q=1\n",
        "    while q<44641:\n",
        "        if g_ffdp(ffdp[p][q])==True and g_sov(sov[p][q])==True:\n",
        "            vcn=0\n",
        "            for z in [0,1,18,19,20]:\n",
        "                y=data[z].values\n",
        "                if z==18:\n",
        "                    if g_coal(float(y[q]))==True:\n",
        "                        vcn=vcn+1\n",
        "\n",
        "                elif z==0 or z==1:\n",
        "                    if g_pow(float(y[q]))==True:\n",
        "                        vcn=vcn+1\n",
        "                else:\n",
        "                    if g_curr(float(y[q]))==True:\n",
        "                        vcn=vcn+1\n",
        "            if vcn==5:\n",
        "                fcn=fcn+1\n",
        "                indexval[p].append(q)\n",
        "\n",
        "        q=q+1\n",
        "    if fcn>=1000:\n",
        "        index.append(p)\n",
        "        print(p)"
      ]
    },
    {
      "cell_type": "code",
      "execution_count": null,
      "metadata": {
        "colab": {
          "base_uri": "https://localhost:8080/"
        },
        "id": "z6Ar1zEzXZF3",
        "outputId": "8f320926-9596-4329-d3e4-e1729037da9e"
      },
      "outputs": [
        {
          "name": "stdout",
          "output_type": "stream",
          "text": [
            "42715\n"
          ]
        }
      ],
      "source": [
        "print(len(indexval[13]))"
      ]
    },
    {
      "cell_type": "code",
      "execution_count": null,
      "metadata": {
        "colab": {
          "base_uri": "https://localhost:8080/"
        },
        "id": "p53XBWSLAZEB",
        "outputId": "47cfa177-4aba-45ed-97cd-5a54a6638e64"
      },
      "outputs": [
        {
          "output_type": "stream",
          "name": "stdout",
          "text": [
            "[[], [3, 4]]\n"
          ]
        }
      ],
      "source": [
        "l=[[1,2],[3,4]]\n",
        "l[0].clear()\n",
        "print(l)\n"
      ]
    },
    {
      "cell_type": "code",
      "execution_count": null,
      "metadata": {
        "colab": {
          "base_uri": "https://localhost:8080/"
        },
        "id": "s4DwvCjF6t7L",
        "outputId": "a48bfe8d-46bf-4bc2-abe4-5d264f537307"
      },
      "outputs": [
        {
          "output_type": "stream",
          "name": "stdout",
          "text": [
            "0 31416\n",
            "3 9415\n",
            "4 16686\n",
            "7 8622\n",
            "8 19883\n",
            "10 29136\n",
            "11 9205\n",
            "13 32321\n",
            "14 28618\n",
            "15 8100\n",
            "19 15452\n",
            "22 34238\n",
            "23 10177\n",
            "24 0\n",
            "26 31696\n",
            "27 29787\n",
            "29 20604\n",
            "31 27072\n",
            "32 11918\n",
            "39 7133\n",
            "44 5286\n"
          ]
        }
      ],
      "source": [
        "for v in index:\n",
        "    dat=[]\n",
        "    for w in range(0,len(indexval[v])):\n",
        "        dat.append([])\n",
        "        dat[w].append(ffdp[v][indexval[v][w]])\n",
        "        dat[w].append(sov[v][indexval[v][w]])\n",
        "        for u in [0,1,18,19,20]:\n",
        "            s=data[u].values\n",
        "            dat[w].append(float(s[indexval[v][w]]))\n",
        "        for c in range(0,48):\n",
        "            if c!=v and cor_d_[c][v]>=0.8 and (g_ffdp(ffdp[c][indexval[v][w]])==True ):\n",
        "                dat[w].append(c)\n",
        "                dat[w].append(ffdp[c][indexval[v][w]])\n",
        "            elif c!=v and cor_d_[c][v]>=0.8 and (g_ffdp(ffdp[c][indexval[v][w]])==False):\n",
        "                dat[w].clear()\n",
        "                break\n",
        "\n",
        "\n",
        "    res = [ele for ele in dat if ele != []]\n",
        "    print(v,len(res))\n",
        "\n",
        "    df_p = pd.DataFrame(res)\n",
        "    df_p.to_excel(\"output_minraw_train\"+str(v)+\".xlsx\")\n"
      ]
    },
    {
      "cell_type": "code",
      "execution_count": null,
      "metadata": {
        "colab": {
          "base_uri": "https://localhost:8080/",
          "height": 559
        },
        "id": "Af5i1SMNC7dc",
        "outputId": "c847de89-bd21-442b-c930-ed701f3350b2"
      },
      "outputs": [
        {
          "output_type": "stream",
          "name": "stdout",
          "text": [
            "[ 9.51573811e-01  9.08888760e-01  8.28331019e-01  8.06871250e-01\n",
            "  9.12265096e-01  0.00000000e+00  9.14205327e-01  9.12298293e-01\n",
            "  7.83021847e-01  7.87358226e-01  8.95991458e-01  9.08195941e-01\n",
            "  5.14959123e-02  1.73512995e-02  5.00898210e-04  0.00000000e+00\n",
            "  0.00000000e+00 -1.19842056e-02  2.59303827e-03  0.00000000e+00\n",
            " -2.59717895e-02  0.00000000e+00  0.00000000e+00 -1.27187943e-02\n",
            "  1.00000000e+00  9.98133442e-01  9.00173949e-01  8.96620856e-01\n",
            "  4.02900812e-01  4.41265571e-01  7.88728869e-01]\n"
          ]
        },
        {
          "output_type": "display_data",
          "data": {
            "text/plain": [
              "<Figure size 640x480 with 2 Axes>"
            ],
            "image/png": "[encoded data removed]"
          },
          "metadata": {}
        }
      ],
      "source": [
        "\n",
        "\n",
        "def g_ffdp(x):\n",
        "    if x>=1000 and x<=3000:\n",
        "        return True\n",
        "    else:\n",
        "        return False\n",
        "\n",
        "\n",
        "def g_sov(x):\n",
        "    if x>1.8 and x<4.5:\n",
        "        return True\n",
        "    else:\n",
        "        return False\n",
        "\n",
        "def g_pow(x):\n",
        "    if x>=400 and x<=600:\n",
        "        return True\n",
        "    else:\n",
        "        return False\n",
        "\n",
        "def g_coal(x):\n",
        "    if x>=250 and x<=450:\n",
        "        return True\n",
        "    else:\n",
        "        return False\n",
        "\n",
        "\n",
        "def g_curr(x):\n",
        "    if x>200 and x<350:\n",
        "        return True\n",
        "    else:\n",
        "        return False\n",
        "ffdp=[]\n",
        "sov=[]\n",
        "corr=[[0 for col in range(31)] for row in range(4)]\n",
        "\n",
        "i=22\n",
        "while i<=116:\n",
        "    x=data[i].values\n",
        "    ffdp.append(x)\n",
        "    i=i+2\n",
        "\n",
        "a=21\n",
        "while a<=115:\n",
        "  sov.append(data[a].values)\n",
        "  a=a+2\n",
        "for j in range(1,44641):\n",
        "    for k in range(0,len(ffdp)):\n",
        "            ffdp[k][j]=float(ffdp[k][j])\n",
        "\n",
        "for j in range(1,44641):\n",
        "    for k in range(0,len(sov)):\n",
        "           sov[k][j]=float(sov[k][j])\n",
        "\n",
        "odict={}\n",
        "for c in range(0,4):\n",
        "    odict[c]=[]\n",
        "    for d in range(0,12):\n",
        "\n",
        "        ex1=[]\n",
        "        ex2=[]\n",
        "        ex3=[]\n",
        "        ex4=[]\n",
        "        y=data[2+c].values\n",
        "        for j in range(1,44641):\n",
        "            if g_ffdp(ffdp[c+d*4][j])==True and g_ffdp(float(y[j]))==True:\n",
        "                ex1.append(ffdp[c+d*4][j])\n",
        "                ex2.append(float(y[j]))\n",
        "            if g_sov(sov[c+d*4][j])==True and g_ffdp(float(y[j]))==True:\n",
        "                ex3.append(sov[c+d*4][j])\n",
        "                ex4.append(float(y[j]))\n",
        "        if len(ex1)>=1000:\n",
        "            corr[c][d]=pearsonr(ex1,ex2)[0]\n",
        "            if corr[c][d]>=0.5:\n",
        "                odict[c].append(d)\n",
        "        if len(ex3)>=1000:\n",
        "\n",
        "            corr[c][12+d]=pearsonr(ex3,ex4)[0]\n",
        "\n",
        "for c in range(0,4):\n",
        "    for d in range(0,4):\n",
        "        ex1=[]\n",
        "        ex2=[]\n",
        "        y=data[2+c].values\n",
        "        t=data[2+d].values\n",
        "        for j in range(1,44641):\n",
        "            if g_ffdp(float(y[j]))==True and g_ffdp(float(t[j]))==True:\n",
        "                ex1.append(float(y[j]))\n",
        "                ex2.append(float(t[j]))\n",
        "        if len(ex1)>=1000:\n",
        "            corr[c][24+d]=pearsonr(ex1,ex2)[0]\n",
        "            if corr[c][24+d]>=0.5:\n",
        "                odict[c].append(d)\n",
        "for c in range(0,4):\n",
        "    ex1=[]\n",
        "    ex2=[]\n",
        "    ex3=[]\n",
        "    ex4=[]\n",
        "    ex5=[]\n",
        "    ex6=[]\n",
        "    for j in range(1,44641):\n",
        "        if g_ffdp(float(data[2+c].values[j]))==True and g_pow(float(data[0].values[j]))==True:\n",
        "            ex1.append(float(data[2+c].values[j]))\n",
        "            ex2.append(float(data[0].values[j]))\n",
        "\n",
        "        if g_ffdp(float(data[2+c].values[j]))==True and g_coal(float(data[18].values[j]))==True:\n",
        "            ex3.append(float(data[2+c].values[j]))\n",
        "            ex4.append(float(data[18].values[j]))\n",
        "\n",
        "        if c==0 or c==1:\n",
        "            if g_ffdp(float(data[2+c].values[j]))==True and g_curr(float(data[19].values[j]))==True:\n",
        "                ex5.append(float(data[2+c].values[j]))\n",
        "                ex6.append(float(data[19].values[j]))\n",
        "        if c==2 or c==3:\n",
        "            if g_ffdp(float(data[2+c].values[j]))==True and g_curr(float(data[20].values[j]))==True:\n",
        "                ex5.append(float(data[2+c].values[j]))\n",
        "                ex6.append(float(data[20].values[j]))\n",
        "    if len(ex1)>=1000:\n",
        "        corr[c][28]=pearsonr(ex1,ex2)[0]\n",
        "        if corr[c][28]>=0.5:\n",
        "            odict[c].append(28)\n",
        "    if len(ex3)>=1000:\n",
        "        corr[c][29]=pearsonr(ex3,ex4)[0]\n",
        "        if corr[c][29]>=0.5:\n",
        "            odict[c].append(29)\n",
        "    if len(ex5):\n",
        "        if c==0 or c==1:\n",
        "            corr[c][30]=pearsonr(ex5,ex6)[0]\n",
        "            if corr[c][30]>=0.5:\n",
        "                odict[c].append(30)\n",
        "        else:\n",
        "            corr[c][30]=pearsonr(ex5,ex6)[0]\n",
        "            if corr[c][30]>=0.5:\n",
        "                odict[c].append(30)\n",
        "\n",
        "corr=np.array(corr)\n",
        "fig, ax = plt.subplots()\n",
        "\n",
        "\n",
        "c=plt.imshow(corr,vmin=-1,vmax=1,interpolation='nearest')\n",
        "plt.colorbar(c,label=\"pass_Corr\")\n",
        "print(corr[0])"
      ]
    },
    {
      "cell_type": "code",
      "source": [
        "import os\n",
        "import pandas as pd\n",
        "import matplotlib.pyplot as plt\n",
        "import numpy as np\n",
        "import random\n",
        "import pandas as pd\n",
        "from scipy.stats import pearsonr\n",
        "d=pd.read_csv(\"/content/cor_d_5min3mon.csv\", header=None)\n",
        "corr_=d.values\n",
        "print(corr_[0])"
      ],
      "metadata": {
        "colab": {
          "base_uri": "https://localhost:8080/"
        },
        "id": "xYwEEQRZAGZq",
        "outputId": "7897aed3-6835-4715-8506-c150863452c4"
      },
      "execution_count": null,
      "outputs": [
        {
          "output_type": "stream",
          "name": "stdout",
          "text": [
            "[ 1.          0.61998708 -2.          0.60832107  0.76226622  0.56376215\n",
            "  0.54088113  0.58180263  0.85730935  0.98126289  0.55012748  0.57307938\n",
            "  0.85377455  0.65880994  0.55431112  0.56498971  0.69220343  0.63801874\n",
            "  0.54690941  0.49078751  0.70994508  0.64685613  0.3609902   0.48375303\n",
            "  0.71846315  0.68536936  0.54001309  0.52865758  0.70409204  0.6696972\n",
            "  0.53487167  0.51476512  0.60708744  0.7069898   0.44854861  0.58396939\n",
            "  0.58091713  0.65330598  0.49146089  0.56202817  0.64966934  0.65240402\n",
            "  0.52772648 -2.          0.63705887  0.60632473  0.52908378  0.53849846]\n"
          ]
        }
      ]
    },
    {
      "cell_type": "code",
      "source": [
        "print(corr[3])"
      ],
      "metadata": {
        "colab": {
          "base_uri": "https://localhost:8080/"
        },
        "id": "QFtY42Qwh-4I",
        "outputId": "fbc19744-ebaa-4fe8-c778-4e923897ebc7"
      },
      "execution_count": null,
      "outputs": [
        {
          "output_type": "stream",
          "name": "stdout",
          "text": [
            "[ 0.6838732   0.73280568  0.71087187  0.80324027  0.85268023  0.85899983\n",
            "  0.86001548  0.70119197  0.64083699  0.61022407  0.          0.60816067\n",
            " -0.02175564 -0.01435448 -0.01663803 -0.01411251  0.01105665  0.0449462\n",
            "  0.01666121  0.04740019  0.         -0.00936776 -0.03900648  0.\n",
            "  0.89662086  0.89925221  0.98164279  1.          0.3716306   0.41656663\n",
            "  0.55193982]\n"
          ]
        }
      ]
    }
  ],
  "metadata": {
    "colab": {
      "provenance": []
    },
    "kernelspec": {
      "display_name": "Python 3",
      "name": "python3"
    },
    "language_info": {
      "name": "python"
    }
  },
  "nbformat": 4,
  "nbformat_minor": 0
}